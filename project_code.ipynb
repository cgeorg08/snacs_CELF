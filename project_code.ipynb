{
 "cells": [
  {
   "cell_type": "code",
   "execution_count": 1,
   "metadata": {},
   "outputs": [],
   "source": [
    "# imports\n",
    "import matplotlib.pyplot as plt\n",
    "from random import uniform, seed\n",
    "import numpy as np\n",
    "import time\n",
    "import networkx as nx\n",
    "from tqdm import tqdm\n",
    "import pickle\n",
    "import random"
   ]
  },
  {
   "cell_type": "code",
   "execution_count": 2,
   "metadata": {},
   "outputs": [],
   "source": [
    "# constants\n",
    "budget = 40"
   ]
  },
  {
   "cell_type": "code",
   "execution_count": 3,
   "metadata": {},
   "outputs": [],
   "source": [
    "# In: graph, the set of seed nodes, spread probability, Monte-Carlo simulations --> Out: marginal gain\n",
    "\n",
    "def IC(g,S,p=0.5,mc=1000):\n",
    "\n",
    "    # Loop over the Monte-Carlo Simulations\n",
    "    spread = []\n",
    "    for i in range(mc):\n",
    "        \n",
    "        # Simulate propagation process      \n",
    "        new_active, A = S[:], S[:]\n",
    "        while new_active:\n",
    "\n",
    "            # For each newly active node, find its neighbors that become activated\n",
    "            new_ones = []\n",
    "            for node in new_active:\n",
    "\n",
    "                node_dict = dict(g[node])\n",
    "                node_neighbours = list(node_dict.keys())\n",
    "                \n",
    "                global node_weights_globaldict\n",
    "                weights_list = node_weights_globaldict[node]\n",
    "                weights_np = np.array(weights_list) \n",
    "\n",
    "                # Determine neighbors that become infected\n",
    "                np.random.seed((int)(node)+i)                \n",
    "                success = (np.random.uniform(0,1,len(g[node]))+weights_np) > p\n",
    "                new_ones += list(np.extract(success, node_neighbours))\n",
    "\n",
    "            new_active = list(set(new_ones) - set(A))\n",
    "            \n",
    "            # Add newly activated nodes to the set of activated nodes\n",
    "            A += new_active\n",
    "            \n",
    "        spread.append(len(A))\n",
    "        \n",
    "    return(np.mean(spread))"
   ]
  },
  {
   "cell_type": "code",
   "execution_count": 4,
   "metadata": {},
   "outputs": [],
   "source": [
    "# In: graph, #nodes in the set of seed nodes, spread probability, Monte-Carlo simulations, cost dictionary and budget --> Out: set of seed nodes, reward and time\n",
    "\n",
    "def greedy(g,k,p=0.1,mc=1000,node_cost_dict={}, budget=budget):\n",
    "\n",
    "    S, spread, timelapse, start_time = [], [], [], time.time()\n",
    "    \n",
    "    # Find k nodes with largest marginal gain\n",
    "    for _ in tqdm(range(k)):\n",
    "        node = None\n",
    "\n",
    "        # Loop over nodes that are not yet in seed set to find biggest marginal gain\n",
    "        best_spread = 0\n",
    "        # for j in set(range(len(g.nodes)))-set(S):\n",
    "        for j in set(g.nodes)-set(S):\n",
    "\n",
    "            if node_cost_dict[j]<=budget:\n",
    "                # Get the spread\n",
    "                s = IC(g,S + [j],p,mc)/node_cost_dict[j]\n",
    "\n",
    "                # Update the winning node and spread so far\n",
    "                if s > best_spread:\n",
    "                    best_spread, node = s, j\n",
    "                    \n",
    "        if node != None:\n",
    "            # Add the selected node to the seed set\n",
    "            S.append(node)\n",
    "            budget = budget - node_cost_dict[node]\n",
    "\n",
    "            print('**GREEDY HERE** - picked up node:',node)\n",
    "            \n",
    "            # Add estimated spread and elapsed time\n",
    "            spread.append(best_spread)\n",
    "            timelapse.append(time.time() - start_time)\n",
    "\n",
    "    return(S,spread,timelapse)"
   ]
  },
  {
   "cell_type": "code",
   "execution_count": 3,
   "metadata": {},
   "outputs": [],
   "source": [
    "# In: graph, #nodes in the set of seed nodes, dimeter of detection, Monte-Carlo simulations --> Out: set of seed nodes, reward and time\n",
    "\n",
    "def detection_time(g,k,d=10,mc=1000):\n",
    "\n",
    "    nodes_latency_dict = dict()\n",
    "\n",
    "    for root in tqdm(set(g.nodes)):\n",
    "        for i in range(mc):\n",
    "            random.seed((int)(root+i))\n",
    "\n",
    "            previous_node = root\n",
    "            next_node = root\n",
    "            latency_list = list()\n",
    "            current_depth = 1\n",
    "            latency = 0\n",
    "            while current_depth<=d:\n",
    "                node_dict = dict(g[previous_node])\n",
    "                node_neighbours = list(node_dict.keys())\n",
    "                next_node = random.choice(node_neighbours)\n",
    "\n",
    "                key = (previous_node,next_node)\n",
    "                global edge_latency_dict\n",
    "                latency += edge_latency_dict[key]\n",
    "\n",
    "                previous_node = next_node\n",
    "                current_depth+=1\n",
    "            \n",
    "            latency_list.append(latency)\n",
    "            \n",
    "        nodes_latency_dict[root] = np.mean(latency_list)\n",
    "\n",
    "    return(nodes_latency_dict)"
   ]
  },
  {
   "cell_type": "code",
   "execution_count": 6,
   "metadata": {},
   "outputs": [],
   "source": [
    "# In: graph, #nodes in the set of seed nodes, spread probability, Monte-Carlo simulations, cost dictionary and budget --> Out: set of seed nodes, reward and time\n",
    "\n",
    "def celf(g,k,p=0.1,mc=1000,node_cost_dict={}, budget=budget):  \n",
    "    \n",
    "    start_time = time.time() \n",
    "    marg_gain = []\n",
    "    for node in g.nodes:\n",
    "        marg_gain.append(IC(g,[node],p,mc)/node_cost_dict[node])\n",
    "\n",
    "    Q = sorted(zip(g.nodes,marg_gain), key=lambda x: x[1],reverse=True)\n",
    "\n",
    "    S, spread, SPREAD = [Q[0][0]], Q[0][1], [Q[0][1]]\n",
    "    Q, LOOKUPS, timelapse = Q[1:], [len(g.nodes)], [time.time()-start_time]\n",
    "    budget = budget - node_cost_dict[Q[0][0]]\n",
    "    \n",
    "    # --------------------\n",
    "    # Find the next k-1 nodes using the list-sorting procedure\n",
    "    # --------------------\n",
    "\n",
    "    for _ in tqdm(range(k-1)):    \n",
    "\n",
    "        check, node_lookup = False, 0\n",
    "\n",
    "        # Shorten the candidate list based on whether the cost of a node is less or equal to our budget\n",
    "        j=0\n",
    "        while j < len(Q):\n",
    "            if node_cost_dict[Q[j][0]] > budget:\n",
    "                Q.pop(j)\n",
    "                j = j-1\n",
    "            j = j+1\n",
    "        \n",
    "        if Q:\n",
    "            while not check:\n",
    "                \n",
    "                # Count the number of times the spread is computed\n",
    "                node_lookup += 1\n",
    "                \n",
    "                # Recalculate spread of top node\n",
    "                current = Q[0][0]\n",
    "                \n",
    "                # Evaluate the spread function and store the marginal gain in the list\n",
    "                marg_gain = (IC(g,S+[current],p,mc)/node_cost_dict[current]) - spread\n",
    "                Q[0] = (current,marg_gain)\n",
    "\n",
    "                # Re-sort the list\n",
    "                Q = sorted(Q, key = lambda x: x[1], reverse = True)\n",
    "\n",
    "                # Check if previous top node stayed on top after the sort\n",
    "                check = (Q[0][0] == current)\n",
    "\n",
    "            # Select the next node\n",
    "            spread += Q[0][1]\n",
    "            S.append(Q[0][0])\n",
    "            budget = budget - node_cost_dict[Q[0][0]]\n",
    "            SPREAD.append(spread)\n",
    "            LOOKUPS.append(node_lookup)\n",
    "            timelapse.append(time.time() - start_time)\n",
    "\n",
    "            # Remove the selected node from the list\n",
    "            Q = Q[1:]\n",
    "\n",
    "    return(S,SPREAD,timelapse,LOOKUPS)"
   ]
  },
  {
   "cell_type": "code",
   "execution_count": 4,
   "metadata": {},
   "outputs": [],
   "source": [
    "big_file = r'bigfile.txt'\n",
    "small_file = r'smallfile.txt'\n",
    "\n",
    "filehandler = open(small_file, 'r',encoding='utf-8')\n",
    "Lines = filehandler.readlines()"
   ]
  },
  {
   "cell_type": "code",
   "execution_count": 5,
   "metadata": {},
   "outputs": [],
   "source": [
    "# parameter weight_flag\n",
    "weight_flag = False\n",
    "\n",
    "edge_list = list()\n",
    "for line in Lines:\n",
    "    # if you use big_file then below line should be: tokens = line.strip().split('\\t')\n",
    "    tokens = line.strip().split(' ')\n",
    "    node1 = (int)(tokens[0])-1\n",
    "    node2 = (int)(tokens[1])-1\n",
    "    if (weight_flag):\n",
    "        weight = (float)(tokens[2])\n",
    "        edge = (node1,node2,weight)\n",
    "    else:\n",
    "        edge = (node1,node2)\n",
    "    edge_list.append(edge)"
   ]
  },
  {
   "cell_type": "code",
   "execution_count": 6,
   "metadata": {},
   "outputs": [],
   "source": [
    "# construct the network\n",
    "g = nx.Graph()\n",
    "g.add_edges_from(edge_list)"
   ]
  },
  {
   "attachments": {},
   "cell_type": "markdown",
   "metadata": {},
   "source": [
    "# COSTS \n",
    "- (DEFAULT) costs = 1 for unit-cost algorithms\n",
    "- (UNCOMMENT the comments) costs based on conditions for cost-sensitive algorithms"
   ]
  },
  {
   "cell_type": "code",
   "execution_count": 7,
   "metadata": {},
   "outputs": [],
   "source": [
    "# cost_list = [1.1, 1.2, 1.3, 1.4, 1.5, 1.6, 1.7, 1.8, 1.9]\n",
    "# node_cost_dict = dict()\n",
    "# for i in g.nodes:\n",
    "#     if g.degree(i)>=40:\n",
    "#         node_cost_dict[i] =  1.9\n",
    "#     elif g.degree(i)>=35 and g.degree(i)<40:\n",
    "#         node_cost_dict[i] = 1.8\n",
    "#     elif g.degree(i)>=30 and g.degree(i)<35:\n",
    "#         node_cost_dict[i] = 1.7\n",
    "#     elif g.degree(i)>=25 and g.degree(i)<30:\n",
    "#         node_cost_dict[i] = 1.6\n",
    "#     elif g.degree(i)>=20 and g.degree(i)<25:\n",
    "#         node_cost_dict[i] = 1.5\n",
    "#     elif g.degree(i)>=15 and g.degree(i)<20:\n",
    "#         node_cost_dict[i] = 1.4\n",
    "#     elif g.degree(i)>=10 and g.degree(i)<15:\n",
    "#         node_cost_dict[i] = 1.3\n",
    "#     elif g.degree(i)>=5 and g.degree(i)<10:\n",
    "#         node_cost_dict[i] = 1.2\n",
    "#     elif g.degree(i)>=2 and g.degree(i)<5:\n",
    "#         node_cost_dict[i] = 1.15\n",
    "#     else:\n",
    "#         node_cost_dict[i] = 1.1\n",
    "node_cost_dict = dict()\n",
    "for i in g.nodes:\n",
    "    node_cost_dict[i] = 1"
   ]
  },
  {
   "attachments": {},
   "cell_type": "markdown",
   "metadata": {},
   "source": [
    "# WEIGHTS\n",
    "- (DEFAULT) weights = [0, 0, 0, 0, 0] for non-weight-sensitive algorithms\n",
    "- (UNCOMMENT the comments) weights = [-0.2, -0.1, 0, 0.1, 0.2] for weight-sensitive algorithms"
   ]
  },
  {
   "cell_type": "code",
   "execution_count": 8,
   "metadata": {},
   "outputs": [],
   "source": [
    "random.seed(11)\n",
    "node_neighweights_globaldict = dict()\n",
    "# weights = [-0.2, -0.1, 0, 0.1, 0.2]\n",
    "weights = [0, 0, 0, 0, 0]\n",
    "for current_node in g.nodes:\n",
    "    neighbours_weight_dict = dict()\n",
    "\n",
    "    tmp_dict = dict(g[current_node])\n",
    "    neighbours = list(tmp_dict.keys())\n",
    "\n",
    "    for neighbour in neighbours:\n",
    "        if neighbour in node_neighweights_globaldict.keys():\n",
    "            num = node_neighweights_globaldict[neighbour][current_node]\n",
    "        else:\n",
    "            num = random.choice(weights)\n",
    "        neighbours_weight_dict[neighbour] = num\n",
    "\n",
    "    node_neighweights_globaldict[current_node] = neighbours_weight_dict"
   ]
  },
  {
   "cell_type": "code",
   "execution_count": 9,
   "metadata": {},
   "outputs": [],
   "source": [
    "node_weights_globaldict = dict()\n",
    "for k,v in node_neighweights_globaldict.items():\n",
    "    node_weights_globaldict[k] = list(v.values())"
   ]
  },
  {
   "attachments": {},
   "cell_type": "markdown",
   "metadata": {},
   "source": [
    "# TIMESTAMPS\n",
    "by default the objective function is population affected (uncomment the comments to change the objective function to the detetion time)"
   ]
  },
  {
   "cell_type": "code",
   "execution_count": 10,
   "metadata": {},
   "outputs": [],
   "source": [
    "# random.seed(11)\n",
    "# edge_latency_dict = dict()\n",
    "# latencies = [x+1 for x in range(20)]\n",
    "# for current_edge in g.edges:\n",
    "#     edge_latency_dict[current_edge] = random.choice(latencies)\n",
    "\n",
    "#     reverse_edge = (current_edge[1], current_edge[0])\n",
    "#     edge_latency_dict[reverse_edge] = edge_latency_dict[current_edge]\n",
    "\n",
    "# output = detection_time(g,10,d = 20, mc = 1000)\n",
    "# output_top_nodes = dict()\n",
    "# for _ in range(10):\n",
    "#     Keymax = max(zip(output.values(), output.keys()))[1]\n",
    "#     Valuemax = max(zip(output.values(), output.keys()))[0]\n",
    "#     output_top_nodes[Keymax] = Valuemax\n",
    "#     output.pop(Keymax)"
   ]
  },
  {
   "cell_type": "markdown",
   "metadata": {},
   "source": [
    "# RUN"
   ]
  },
  {
   "cell_type": "code",
   "execution_count": 13,
   "metadata": {},
   "outputs": [
    {
     "name": "stderr",
     "output_type": "stream",
     "text": [
      "100%|██████████| 9/9 [11:27<00:00, 76.34s/it]   "
     ]
    },
    {
     "name": "stdout",
     "output_type": "stream",
     "text": [
      "celf output:   [138, 118, 78, 397, 389, 369, 134, 312, 21, 185]\n"
     ]
    },
    {
     "name": "stderr",
     "output_type": "stream",
     "text": [
      "\n"
     ]
    }
   ],
   "source": [
    "celf_output   = celf(g,10,p = 0.5,mc = 100, node_cost_dict=node_cost_dict, budget=budget)\n",
    "print(\"celf output:   \" + str(celf_output[0]))\n",
    "\n",
    "# save results\n",
    "# output_dict = dict()\n",
    "# output_dict['celf_output'] = celf_output\n",
    "# output_file = 'small_celf_costs.pickle'\n",
    "# with open(output_file, 'wb') as handle:\n",
    "#     pickle.dump(output_dict, handle, protocol=pickle.HIGHEST_PROTOCOL)"
   ]
  },
  {
   "cell_type": "code",
   "execution_count": 14,
   "metadata": {},
   "outputs": [
    {
     "name": "stdout",
     "output_type": "stream",
     "text": [
      "0.006448172924128206\n",
      "0.2652804824685363\n"
     ]
    }
   ],
   "source": [
    "placement = [138, 118, 78, 397, 389, 369, 134, 312, 21, 185]\n",
    "betweenness_centrality = nx.betweenness_centrality(g)\n",
    "degree_centrality = nx.degree_centrality(g)\n",
    "\n",
    "# find average betweenness centrality of the nodes in the network\n",
    "\n",
    "avg_betweenness_centrality = 0\n",
    "for i in betweenness_centrality:\n",
    "    avg_betweenness_centrality += betweenness_centrality[i]\n",
    "avg_betweenness_centrality = avg_betweenness_centrality/len(betweenness_centrality)\n",
    "print(avg_betweenness_centrality)\n",
    "\n",
    "# find max betweeness centrality of the nodes in the network\n",
    "\n",
    "max_betweenness_centrality = 0\n",
    "for i in betweenness_centrality:\n",
    "    if betweenness_centrality[i] > max_betweenness_centrality:\n",
    "        max_betweenness_centrality = betweenness_centrality[i]\n",
    "print(max_betweenness_centrality)"
   ]
  },
  {
   "cell_type": "code",
   "execution_count": null,
   "metadata": {},
   "outputs": [],
   "source": [
    "greedy_output = greedy(g,10,p = 0.5,mc = 1, node_cost_dict=node_cost_dict, budget=budget)\n",
    "print(\"greedy output: \" + str(greedy_output[0]))\n",
    "\n",
    "# save results\n",
    "# output_dict = dict()\n",
    "# output_dict['greedy_output'] = greedy_output\n",
    "# output_file = 'small_greedy_costs.pickle'\n",
    "# with open(output_file, 'wb') as handle:\n",
    "#     pickle.dump(output_dict, handle, protocol=pickle.HIGHEST_PROTOCOL)"
   ]
  },
  {
   "cell_type": "code",
   "execution_count": 29,
   "metadata": {},
   "outputs": [],
   "source": [
    "def plot_CT(x, y_greedy, y_celf):\n",
    "     \n",
    "    # first plot with X and Y data\n",
    "    plt.plot(x, y_greedy, linestyle='--', marker='o', color='r', label='GREEDY')\n",
    "    \n",
    "    # second plot with x1 and y1 data\n",
    "    plt.plot(x, y_celf, linestyle='--', marker='o', color='b', label='CELF')\n",
    "    \n",
    "    plt.xlabel(\"Nodes selected\")\n",
    "    plt.ylabel(\"Time in seconds\")\n",
    "    plt.title('Computation time: CELF vs GREEDY')\n",
    "    plt.legend()\n",
    "    plt.show()"
   ]
  },
  {
   "cell_type": "code",
   "execution_count": 34,
   "metadata": {},
   "outputs": [
    {
     "data": {
      "image/png": "[encoded data removed]",
      "text/plain": [
       "<Figure size 432x288 with 1 Axes>"
      ]
     },
     "metadata": {
      "needs_background": "light"
     },
     "output_type": "display_data"
    },
    {
     "data": {
      "image/png": "[encoded data removed]",
      "text/plain": [
       "<Figure size 432x288 with 1 Axes>"
      ]
     },
     "metadata": {
      "needs_background": "light"
     },
     "output_type": "display_data"
    }
   ],
   "source": [
    "# plot time\n",
    "x_axis = [1,2,3,4,5,6,7,8,9,10]\n",
    "plot_CT(x_axis, greedy['greedy_output'][2], celf['celf_output'][2])\n",
    "plot_CT(x_axis, greedy_big['greedy_output'][2], celf_big['celf_output'][2])"
   ]
  },
  {
   "cell_type": "code",
   "execution_count": null,
   "metadata": {},
   "outputs": [],
   "source": []
  }
 ],
 "metadata": {
  "kernelspec": {
   "display_name": "Python 3.10.5 64-bit",
   "language": "python",
   "name": "python3"
  },
  "language_info": {
   "codemirror_mode": {
    "name": "ipython",
    "version": 3
   },
   "file_extension": ".py",
   "mimetype": "text/x-python",
   "name": "python",
   "nbconvert_exporter": "python",
   "pygments_lexer": "ipython3",
   "version": "3.10.5 (tags/v3.10.5:f377153, Jun  6 2022, 16:14:13) [MSC v.1929 64 bit (AMD64)]"
  },
  "orig_nbformat": 4,
  "vscode": {
   "interpreter": {
    "hash": "afb734500600fd355917ca529030176ea0ca205570884b88f2f6f7d791fd3fbe"
   }
  }
 },
 "nbformat": 4,
 "nbformat_minor": 2
}
