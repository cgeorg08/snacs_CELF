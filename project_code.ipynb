{
 "cells": [
  {
   "cell_type": "code",
   "execution_count": 11,
   "metadata": {},
   "outputs": [],
   "source": [
    "# imports\n",
    "import matplotlib.pyplot as plt\n",
    "from random import uniform, seed\n",
    "import numpy as np\n",
    "import time\n",
    "import networkx as nx\n",
    "from tqdm import tqdm\n",
    "import pickle"
   ]
  },
  {
   "cell_type": "code",
   "execution_count": 2,
   "metadata": {},
   "outputs": [],
   "source": [
    "# constants\n",
    "budget = 40"
   ]
  },
  {
   "cell_type": "code",
   "execution_count": 3,
   "metadata": {},
   "outputs": [],
   "source": [
    "def IC(g,S,p=0.5,mc=1000):\n",
    "    \"\"\"\n",
    "    Input:  graph object, set of seed nodes, propagation probability\n",
    "            and the number of Monte-Carlo simulations\n",
    "    Output: average number of nodes influenced by the seed nodes\n",
    "    \"\"\"\n",
    "\n",
    "    # Loop over the Monte-Carlo Simulations\n",
    "    spread = []\n",
    "    for i in range(mc):\n",
    "        \n",
    "        # Simulate propagation process      \n",
    "        new_active, A = S[:], S[:]\n",
    "        while new_active:\n",
    "\n",
    "            # For each newly active node, find its neighbors that become activated\n",
    "            new_ones = []\n",
    "            for node in new_active:\n",
    "                \n",
    "                node_dict = dict(g[node])\n",
    "                node_neighbours = list(node_dict.keys())\n",
    "\n",
    "                # Determine neighbors that become infected\n",
    "                np.random.seed(i)\n",
    "                success = np.random.uniform(0,1,len(g[node])) < p\n",
    "                new_ones += list(np.extract(success, node_neighbours))\n",
    "\n",
    "            new_active = list(set(new_ones) - set(A))\n",
    "            \n",
    "            # Add newly activated nodes to the set of activated nodes\n",
    "            A += new_active\n",
    "            \n",
    "        spread.append(len(A))\n",
    "        \n",
    "    return(np.mean(spread))"
   ]
  },
  {
   "cell_type": "code",
   "execution_count": 4,
   "metadata": {},
   "outputs": [],
   "source": [
    "def greedy(g,k,p=0.1,mc=1000,node_cost_dict={}, budget=budget):\n",
    "    \"\"\"\n",
    "    Input:  graph object, number of seed nodes\n",
    "    Output: optimal seed set, resulting spread, time for each iteration\n",
    "    \"\"\"\n",
    "\n",
    "    S, spread, timelapse, start_time = [], [], [], time.time()\n",
    "    \n",
    "    # Find k nodes with largest marginal gain\n",
    "    for _ in tqdm(range(k)):\n",
    "        node = None\n",
    "\n",
    "        # Loop over nodes that are not yet in seed set to find biggest marginal gain\n",
    "        best_spread = 0\n",
    "        # for j in set(range(len(g.nodes)))-set(S):\n",
    "        for j in set(g.nodes)-set(S):\n",
    "\n",
    "            if node_cost_dict[j]<=budget:\n",
    "                # Get the spread\n",
    "                s = IC(g,S + [j],p,mc)/node_cost_dict[j]\n",
    "\n",
    "                # Update the winning node and spread so far\n",
    "                if s > best_spread:\n",
    "                    best_spread, node = s, j\n",
    "                    budget = budget - node_cost_dict[j]\n",
    "\n",
    "        if node != None:\n",
    "            # Add the selected node to the seed set\n",
    "            S.append(node)\n",
    "            \n",
    "            # Add estimated spread and elapsed time\n",
    "            spread.append(best_spread)\n",
    "            timelapse.append(time.time() - start_time)\n",
    "\n",
    "    return(S,spread,timelapse)"
   ]
  },
  {
   "cell_type": "code",
   "execution_count": 5,
   "metadata": {},
   "outputs": [],
   "source": [
    "def celf(g,k,p=0.1,mc=1000,node_cost_dict={}, budget=budget):  \n",
    "    \"\"\"\n",
    "    Input:  graph object, number of seed nodes\n",
    "    Output: optimal seed set, resulting spread, time for each iteration\n",
    "    \"\"\"\n",
    "      \n",
    "    # --------------------\n",
    "    # Find the first node with greedy algorithm\n",
    "    # --------------------\n",
    "    \n",
    "    # Calculate the first iteration sorted list\n",
    "    start_time = time.time() \n",
    "    #marg_gain = [IC(g,[node],p,mc) for node in range(len(g.nodes))]\n",
    "    marg_gain = []\n",
    "    # for node in range(len(g.nodes)):\n",
    "    for node in g.nodes:\n",
    "        marg_gain.append(IC(g,[node],p,mc)/node_cost_dict[node])\n",
    "\n",
    "    # Create the sorted list of nodes and their marginal gain \n",
    "    # Q = sorted(zip(range(len(g.nodes)),marg_gain), key=lambda x: x[1],reverse=True)\n",
    "    Q = sorted(zip(g.nodes,marg_gain), key=lambda x: x[1],reverse=True)\n",
    "\n",
    "    # Select the first node and remove from candidate list\n",
    "    S, spread, SPREAD = [Q[0][0]], Q[0][1], [Q[0][1]]\n",
    "    Q, LOOKUPS, timelapse = Q[1:], [len(g.nodes)], [time.time()-start_time]\n",
    "    budget = budget - node_cost_dict[Q[0][0]]\n",
    "    \n",
    "    # --------------------\n",
    "    # Find the next k-1 nodes using the list-sorting procedure\n",
    "    # --------------------\n",
    "\n",
    "    for _ in tqdm(range(k-1)):    \n",
    "\n",
    "        check, node_lookup = False, 0\n",
    "\n",
    "        # Shorten the candidate list based on whether the cost of a node is less or equal to our budget\n",
    "        j=0\n",
    "        while j < len(Q):\n",
    "            if node_cost_dict[Q[j][0]] > budget:\n",
    "                Q.pop(j)\n",
    "                j = j-1\n",
    "            j = j+1\n",
    "        \n",
    "        if Q:\n",
    "            while not check:\n",
    "                \n",
    "                # Count the number of times the spread is computed\n",
    "                node_lookup += 1\n",
    "                \n",
    "                # Recalculate spread of top node\n",
    "                current = Q[0][0]\n",
    "                \n",
    "                # Evaluate the spread function and store the marginal gain in the list\n",
    "                marg_gain = (IC(g,S+[current],p,mc)/node_cost_dict[current]) - spread\n",
    "                Q[0] = (current,marg_gain)\n",
    "\n",
    "                # Re-sort the list\n",
    "                Q = sorted(Q, key = lambda x: x[1], reverse = True)\n",
    "\n",
    "                # Check if previous top node stayed on top after the sort\n",
    "                check = (Q[0][0] == current)\n",
    "\n",
    "            # Select the next node\n",
    "            spread += Q[0][1]\n",
    "            S.append(Q[0][0])\n",
    "            budget = budget - node_cost_dict[Q[0][0]]\n",
    "            SPREAD.append(spread)\n",
    "            LOOKUPS.append(node_lookup)\n",
    "            timelapse.append(time.time() - start_time)\n",
    "\n",
    "            # Remove the selected node from the list\n",
    "            Q = Q[1:]\n",
    "\n",
    "    return(S,SPREAD,timelapse,LOOKUPS)"
   ]
  },
  {
   "cell_type": "code",
   "execution_count": 6,
   "metadata": {},
   "outputs": [],
   "source": [
    "big_file = r'bigfile.txt'\n",
    "small_file = r'smallfile.txt'\n",
    "\n",
    "filehandler = open(big_file, 'r',encoding='utf-8')\n",
    "Lines = filehandler.readlines()"
   ]
  },
  {
   "cell_type": "code",
   "execution_count": 7,
   "metadata": {},
   "outputs": [],
   "source": [
    "# parameter weight_flag\n",
    "weight_flag = False\n",
    "\n",
    "edge_list = list()\n",
    "for line in Lines:\n",
    "    # if you use big_file then below line should be: tokens = line.strip().split('\\t')\n",
    "    tokens = line.strip().split('\\t')\n",
    "    node1 = (int)(tokens[0])-1\n",
    "    node2 = (int)(tokens[1])-1\n",
    "    if (weight_flag):\n",
    "        weight = (float)(tokens[2])\n",
    "        edge = (node1,node2,weight)\n",
    "    else:\n",
    "        edge = (node1,node2)\n",
    "    edge_list.append(edge)"
   ]
  },
  {
   "cell_type": "code",
   "execution_count": 8,
   "metadata": {},
   "outputs": [],
   "source": [
    "# construct the network\n",
    "g = nx.Graph()\n",
    "g.add_edges_from(edge_list)"
   ]
  },
  {
   "cell_type": "code",
   "execution_count": 9,
   "metadata": {},
   "outputs": [],
   "source": [
    "# demoooooo\n",
    "# source = [0,1,2,4]\n",
    "# target = [3,3,3,3]\n",
    "# edge_list = zip(source,target)\n",
    "\n",
    "# node_cost_dict = dict()\n",
    "# node_cost_dict[0] = 2\n",
    "# node_cost_dict[1] = 3\n",
    "# node_cost_dict[2] = 3\n",
    "# node_cost_dict[4] = 2\n",
    "# node_cost_dict[3] = 5\n",
    "#--------------------------------------------------------------------------------\n",
    "# source = [0,0,0,0,0,0,0,0,1,1,1,1,1,1,1,1,2,3,4,5]\n",
    "# target = [2,3,4,5,6,7,8,9,2,3,4,5,6,7,8,9,6,7,8,9]\n",
    "# edge_list = zip(source,target)\n",
    "\n",
    "# # cost_list = [1,2,3,4,5]\n",
    "# node_cost_dict = dict()\n",
    "# for i in g.nodes:\n",
    "#     if g.degree(i)>=6:\n",
    "#         node_cost_dict[i] = 5\n",
    "#     elif g.degree(i)>=5 and g.degree(i)<6:\n",
    "#         node_cost_dict[i] = 4\n",
    "#     elif g.degree(i)>=4 and g.degree(i)<5:\n",
    "#         node_cost_dict[i] = 3\n",
    "#     elif g.degree(i)>=2 and g.degree(i)<4:\n",
    "#         node_cost_dict[i] = 2\n",
    "#     else:\n",
    "#         node_cost_dict[i] = 1\n",
    "#----------------------------------------------------------------------------------\n",
    "# cost_list = [1,2,3,4,5]\n",
    "node_cost_dict = dict()\n",
    "for i in g.nodes:\n",
    "    if g.degree(i)>=400:\n",
    "        node_cost_dict[i] = 5\n",
    "    elif g.degree(i)>=300 and g.degree(i)<400:\n",
    "        node_cost_dict[i] = 4\n",
    "    elif g.degree(i)>=200 and g.degree(i)<300:\n",
    "        node_cost_dict[i] = 3\n",
    "    elif g.degree(i)>=100 and g.degree(i)<200:\n",
    "        node_cost_dict[i] = 2\n",
    "    else:\n",
    "        node_cost_dict[i] = 1\n",
    "#----------------------------------------------------------------------------------\n",
    "# cost_list = [1,2,3,4,5]\n",
    "# node_cost_dict = dict()\n",
    "# for i in g.nodes:\n",
    "#     if g.degree(i)>=40:\n",
    "#         node_cost_dict[i] = 5\n",
    "#     elif g.degree(i)>=30 and g.degree(i)<40:\n",
    "#         node_cost_dict[i] = 4\n",
    "#     elif g.degree(i)>=20 and g.degree(i)<30:\n",
    "#         node_cost_dict[i] = 3\n",
    "#     elif g.degree(i)>=10 and g.degree(i)<20:\n",
    "#         node_cost_dict[i] = 2\n",
    "#     else:\n",
    "#         node_cost_dict[i] = 1"
   ]
  },
  {
   "cell_type": "code",
   "execution_count": 10,
   "metadata": {},
   "outputs": [
    {
     "name": "stderr",
     "output_type": "stream",
     "text": [
      "100%|██████████| 1/1 [01:28<00:00, 88.85s/it]\n",
      "100%|██████████| 2/2 [03:03<00:00, 91.80s/it]"
     ]
    },
    {
     "name": "stdout",
     "output_type": "stream",
     "text": [
      "celf output:   [0, 259]\n",
      "greedy output: [0, 259]\n"
     ]
    },
    {
     "name": "stderr",
     "output_type": "stream",
     "text": [
      "\n"
     ]
    }
   ],
   "source": [
    "celf_output   = celf(g,10,p = 0.2,mc = 20, node_cost_dict=node_cost_dict, budget=budget)\n",
    "print(\"celf output:   \" + str(celf_output[0]))\n",
    "\n",
    "# save results\n",
    "output_dict = dict()\n",
    "output_dict['celf_output'] = celf_output\n",
    "output_file = 'celf_outputsensornumber' + str(10) + '.pickle'\n",
    "with open(output_file, 'wb') as handle:\n",
    "    pickle.dump(output_dict, handle, protocol=pickle.HIGHEST_PROTOCOL)"
   ]
  },
  {
   "cell_type": "code",
   "execution_count": null,
   "metadata": {},
   "outputs": [],
   "source": [
    "greedy_output = greedy(g,10,p = 0.2,mc = 20, node_cost_dict=node_cost_dict, budget=budget)\n",
    "print(\"greedy output: \" + str(greedy_output[0]))\n",
    "\n",
    "# save results\n",
    "output_dict = dict()\n",
    "output_dict['greedy_output'] = greedy_output\n",
    "output_file = 'output_greedysensornumber' + str(10) + '.pickle'\n",
    "with open(output_file, 'wb') as handle:\n",
    "    pickle.dump(output_dict, handle, protocol=pickle.HIGHEST_PROTOCOL)"
   ]
  },
  {
   "cell_type": "code",
   "execution_count": 31,
   "metadata": {},
   "outputs": [],
   "source": [
    "# import pickle\n",
    "# output_dict = dict()\n",
    "# output_dict['celf_output'] = celf_output\n",
    "# output_dict['greedy_output'] = greedy_output\n",
    "# output_file = 'output_file_sensornumber_' + str(2) + '.pickle'\n",
    "# with open(output_file, 'wb') as handle:\n",
    "#     pickle.dump(output_dict, handle, protocol=pickle.HIGHEST_PROTOCOL)\n",
    "\n",
    "# with open(output_file, 'rb') as handle:\n",
    "#     b = pickle.load(handle)"
   ]
  },
  {
   "cell_type": "code",
   "execution_count": 11,
   "metadata": {},
   "outputs": [
    {
     "data": {
      "image/png": "[encoded data removed]",
      "text/plain": [
       "<Figure size 720x360 with 1 Axes>"
      ]
     },
     "metadata": {
      "needs_background": "light"
     },
     "output_type": "display_data"
    }
   ],
   "source": [
    "# import numpy as np\n",
    "# import matplotlib.pyplot as plt\n",
    "\n",
    "# # creating the dataset\n",
    "# # x_values = [i for i in range(len(g.nodes))]\n",
    "# # y_values = [g.degree(i) for i in range(len(g.nodes)) if g.has_node(i)]\n",
    "\n",
    "# x_values = []\n",
    "# y_values = []\n",
    "# for i in range(len(g.nodes)):\n",
    "#         if g.has_node(i):\n",
    "#                 x_values.append(i) \n",
    "#                 y_values.append(g.degree(i))\n",
    "  \n",
    "# fig = plt.figure(figsize = (10, 5))\n",
    " \n",
    "# # creating the bar plot\n",
    "# plt.bar(x_values, sorted(y_values), color ='maroon',\n",
    "#         width = 0.4)\n",
    " \n",
    "# plt.xlabel(\"nodes\")\n",
    "# plt.ylabel(\"frequency\")\n",
    "# # plt.title(\"Students enrolled in different courses\")\n",
    "# plt.show()"
   ]
  },
  {
   "cell_type": "code",
   "execution_count": 28,
   "metadata": {},
   "outputs": [
    {
     "data": {
      "image/png": "[encoded data removed]",
      "text/plain": [
       "<Figure size 720x360 with 1 Axes>"
      ]
     },
     "metadata": {
      "needs_background": "light"
     },
     "output_type": "display_data"
    }
   ],
   "source": [
    "# import numpy as np\n",
    "# import matplotlib.pyplot as plt\n",
    "\n",
    "# # creating the dataset\n",
    "# # x_values = [i for i in range(len(g.nodes))]\n",
    "# # y_values = [g.degree(i) for i in range(len(g.nodes)) if g.has_node(i)]\n",
    "\n",
    "# x_values = []\n",
    "# y_values = []\n",
    "# for i in range(len(g.nodes)):\n",
    "#         if g.has_node(i):\n",
    "#                 x_values.append(i) \n",
    "#                 y_values.append(g.degree(i))\n",
    "  \n",
    "# fig = plt.figure(figsize = (10, 5))\n",
    " \n",
    "# # creating the bar plot\n",
    "# plt.bar(x_values, sorted(y_values), color ='maroon',\n",
    "#         width = 0.4)\n",
    " \n",
    "# plt.xlabel(\"nodes\")\n",
    "# plt.ylabel(\"frequency\")\n",
    "# # plt.title(\"Students enrolled in different courses\")\n",
    "# plt.show()"
   ]
  }
 ],
 "metadata": {
  "kernelspec": {
   "display_name": "Python 3.10.5 64-bit",
   "language": "python",
   "name": "python3"
  },
  "language_info": {
   "codemirror_mode": {
    "name": "ipython",
    "version": 3
   },
   "file_extension": ".py",
   "mimetype": "text/x-python",
   "name": "python",
   "nbconvert_exporter": "python",
   "pygments_lexer": "ipython3",
   "version": "3.10.5"
  },
  "orig_nbformat": 4,
  "vscode": {
   "interpreter": {
    "hash": "afb734500600fd355917ca529030176ea0ca205570884b88f2f6f7d791fd3fbe"
   }
  }
 },
 "nbformat": 4,
 "nbformat_minor": 2
}
